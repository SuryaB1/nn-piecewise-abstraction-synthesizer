{
 "cells": [
  {
   "cell_type": "code",
   "execution_count": 2,
   "metadata": {},
   "outputs": [],
   "source": [
    "# # TODO: https://stackoverflow.com/questions/36270116/how-do-i-define-a-hyperplane-in-python-given-4-points-how-do-i-then-define-the\n",
    "# # NOTE: will not work for singular matrices (would need to find a way to choose one of many possible hyperplanes in singular cases)\n",
    "# def hyper4(p1,p2,p3,p4):\n",
    "#    X=np.matrix([p1,p2,p3,p4])\n",
    "#    print(X)\n",
    "#    k=np.ones((4,1))\n",
    "#    print(k)\n",
    "#    a=np.matrix.dot(np.linalg.inv(X), k)\n",
    "#    print(f\"equation is x * {a} = 1\")\n",
    "#    return a\n",
    "\n",
    "# # hyper4([0,0,0,0],[0,0,0,1],[0,0,2,1],[0,0,2,0]) # singular 4D\n",
    "# # hyper4([1,2,3,4],[0,0,0,1],[4,3,2,1],[2,0,2,0]) # invertible 4D: 1.15w - 1.1x - 0.65y + z = 1\n",
    "\n",
    "# def hyper3(p1,p2,p3):\n",
    "#    X=np.matrix([p1,p2,p3])\n",
    "#    print(X)\n",
    "#    k=np.ones((4,1))\n",
    "#    print(k)\n",
    "#    a=np.matrix.dot(np.linalg.inv(X), k)\n",
    "#    print(f\"equation is x * {a} = 1\")\n",
    "#    return a\n",
    "\n",
    "# hyper3([1,0,0],[0,1,0],[2,0,0]) # singular 3D"
   ]
  },
  {
   "cell_type": "code",
   "execution_count": 3,
   "metadata": {},
   "outputs": [],
   "source": [
    "# # More relevant: https://cs.stackexchange.com/questions/150877/finding-a-d-dimensional-hyperplane-containing-n-given-points\n",
    "# np.linalg.solve\n",
    "# # https://stackoverflow.com/questions/31411330/solving-overdetermined-system-in-numpy-when-the-value-of-one-variable-is-already"
   ]
  },
  {
   "cell_type": "code",
   "execution_count": 4,
   "metadata": {},
   "outputs": [
    {
     "name": "stdout",
     "output_type": "stream",
     "text": [
      "(2, 3)\n",
      "Coefficients of the hyperplane equation: [0.0210084  0.04201681 0.06302521]\n"
     ]
    }
   ],
   "source": [
    "# with pseudo-inverse (takes time), since np.linalg.solve with \"A.T @\" does not work for overdetermined system with linearly dependent points\n",
    "\n",
    "import numpy as np\n",
    "\n",
    "# points = np.array([\n",
    "#     [1, 2, 3],\n",
    "#     [4, 5, 6],\n",
    "#     [7, 8, 9],\n",
    "#     [10, 11, 12]\n",
    "# ])\n",
    "\n",
    "points = np.array([\n",
    "    [1, 2, 3],\n",
    "    [4, 8, 12],\n",
    "])\n",
    "\n",
    "# Create the matrix A and vector b\n",
    "A = points\n",
    "b = np.ones(points.shape[0])\n",
    "print(points.shape)\n",
    "\n",
    "coefficients = np.linalg.pinv(A) @ b #coefficients = np.linalg.solve(A.T @ A, A.T @ b)\n",
    "\n",
    "print(coefficients)\n"
   ]
  },
  {
   "cell_type": "code",
   "execution_count": 23,
   "metadata": {},
   "outputs": [
    {
     "name": "stdout",
     "output_type": "stream",
     "text": [
      "[0, 1]\n",
      "<class 'list'>\n",
      "[[0.5 1.5]\n",
      " [0.5 0.5]]\n",
      "<class 'numpy.ndarray'>\n",
      "<class 'numpy.ndarray'>\n",
      "[0.5 1.5]\n",
      "---\n",
      "[1 0]\n",
      "0.5\n",
      "[1 2]\n",
      "Hyperplane(coeffs=[1, 0], constant=0.5, type='GE')\n"
     ]
    }
   ],
   "source": [
    "from scipy.spatial import Voronoi, voronoi_plot_2d\n",
    "\n",
    "import matplotlib.pyplot as plt\n",
    "import numpy as np\n",
    "\n",
    "from dataclasses import dataclass\n",
    "\n",
    "@dataclass\n",
    "class Hyperplane:\n",
    "    coeffs: np.ndarray # tuple of floats\n",
    "    constant: float\n",
    "    type: str\n",
    "\n",
    "points = np.array([[0, 0], [0, 1], [0, 2], [1, 0], [1, 1], [1, 2], [2, 0], [2, 1], [2, 2]])\n",
    "vor = Voronoi(points, qhull_options='Qbb Qc Qx')\n",
    "centroid = points[5]\n",
    "vertices = vor.vertices\n",
    "\n",
    "ridge = vor.ridge_vertices[4]\n",
    "print(ridge)\n",
    "print(type(ridge))\n",
    "print(vor.vertices[ridge])\n",
    "print(type(vertices))\n",
    "print(type(vertices[ridge]))\n",
    "print(vertices[ridge][0])\n",
    "\n",
    "y_delta = vertices[ridge][1][1] - vertices[ridge][0][1]\n",
    "x_delta = vertices[ridge][1][0] - vertices[ridge][0][0]\n",
    "x_coeff = y_delta / x_delta if x_delta != 0 else -1\n",
    "y_coeff = int(x_delta != 0)\n",
    "constant = y_coeff * vertices[ridge][0][1] - x_coeff * vertices[ridge][0][0]\n",
    "print(\"---\")\n",
    "coeffs = [-1*x_coeff, y_coeff]\n",
    "print(np.asarray(coeffs))\n",
    "print(constant)\n",
    "\n",
    "if np.dot(coeffs, centroid) < constant: \n",
    "    inequality_type = \"LE\"\n",
    "elif np.dot(coeffs, centroid) > constant:\n",
    "    inequality_type = \"GE\"\n",
    "else:\n",
    "    raise ValueError(\"Centroid lies on VoronoiCell ridge\")\n",
    "    \n",
    "print(centroid)\n",
    "print(Hyperplane(coeffs, constant, inequality_type))"
   ]
  }
 ],
 "metadata": {
  "kernelspec": {
   "display_name": "Python 3",
   "language": "python",
   "name": "python3"
  },
  "language_info": {
   "codemirror_mode": {
    "name": "ipython",
    "version": 3
   },
   "file_extension": ".py",
   "mimetype": "text/x-python",
   "name": "python",
   "nbconvert_exporter": "python",
   "pygments_lexer": "ipython3",
   "version": "3.10.8"
  }
 },
 "nbformat": 4,
 "nbformat_minor": 2
}
