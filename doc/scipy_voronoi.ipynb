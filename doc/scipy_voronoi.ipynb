{
 "cells": [
  {
   "cell_type": "markdown",
   "metadata": {},
   "source": [
    "The purpose of this notebook is to test, demonstrate, and document the functionality of the scipy.spatial.Voronoi library."
   ]
  },
  {
   "cell_type": "markdown",
   "metadata": {},
   "source": [
    "### Voronoi Terminology\n",
    "Cell/Segment/Region: a cell in the Voronoi tessellation\n",
    "\n",
    "Ridge: a boundary of a Voronoi cell\n",
    "\n",
    "Centroid: the point within a Voronoi cell that defines the ridges of that cell\n",
    "\n",
    "Vertex: a point where ridges in a Voronoi tessellation intersect"
   ]
  },
  {
   "cell_type": "code",
   "execution_count": 3,
   "metadata": {},
   "outputs": [],
   "source": [
    "from scipy.spatial import Voronoi, voronoi_plot_2d\n",
    "\n",
    "import matplotlib.pyplot as plt\n",
    "import numpy as np"
   ]
  },
  {
   "cell_type": "code",
   "execution_count": 4,
   "metadata": {},
   "outputs": [],
   "source": [
    "### Invalid points\n",
    "invalid_centroids_cospherical = np.array([[0, 0], [1, 0], [1, 1], [0, 1]])  # \"Qhull precision error: initial Delaunay input sites are cocircular or cospherical\"\n",
    "invalid_centroids_2D_not_enough = np.array([[0, 0], [1, 0], [1, 1]])  # \"QH6214 qhull input error: not enough points(3) to construct initial simplex (need 4)\"\n",
    "invalid_centroids_4D_not_enough = np.array([[0, 0.1, 0, 0.1], [1.1, 0, 1.2, 1.2], [1.1, 1, 2.1, 1.1], [0, 1, 0, 1]])  # \"QH6214 qhull input error: not enough points(4) to construct initial simplex (need 6)\"\n",
    "\n",
    "\n",
    "### Valid points\n",
    "centroids_2D = np.array([[0, 0], [0, 1], [0, 2], [1, 0], [1, 1], [1, 2], [2, 0], [2, 1], [2, 2]])\n",
    "noisy_centroids_2D = np.array([[0, .2], [-.2, 1], [0, 2.1], [1.1, -.1], [1, 1], [0.9, 1.9],[2.2, -0.2], [1.9, 1.1], [2.1, 2.3]])\n",
    "centroids_3D = np.array([[0, 0.1, 0.1], [0, 1.2, 0], [0, 2.2, 0], [1.1, 0.3, 1], [1, 1.1, 1], [1.8, 2, 0.9], [2, 0, 1.8], [2, 1, 2], [2, 2, 2]])\n",
    "\n",
    "CENTROIDS = noisy_centroids_2D"
   ]
  },
  {
   "cell_type": "code",
   "execution_count": 5,
   "metadata": {},
   "outputs": [],
   "source": [
    "# For co-spherical inputs, use Qz (e.g. `Voronoi(points_2d, qhull_options=\"Qz\")`), but cannot use incremental mode\n",
    "# For co-spherical inputs, QJ will also work, but it will add random noise to the input points to overcome issue\n",
    "vor = Voronoi(CENTROIDS, incremental=True)"
   ]
  },
  {
   "cell_type": "markdown",
   "metadata": {},
   "source": [
    "### Library Attribute Terminology (see scipy.spatial.Voronoi docs for further details)\n",
    "`points`: the NumPy array of centroids passed into the Voronoi object\n",
    "\n",
    "`vertices`: a NumPy array of all vertices in the Voronoi tessellation\n",
    "\n",
    "`ridge_vertices`: a NumPy array of sub-arrays representing ridges that contain the indices of vertices in `vertices` that form the ridge\n",
    "\n",
    "`ridge_points`: a NumPy array of sub-arrays representing ridges (with each index corresponding with `ridge_vertices`) that contain the indices of two centroids in `points` within which each ridge lies\n",
    "\n",
    "`regions`: a NumPy array of sub-arrays representing Voronoi cells containing indices of vertices in `vertices` that form this cell\n",
    "\n",
    "`point_regions`: an array that corresponds with `points` index-wise where each element is an index of a cell in `regions`\n",
    "\n",
    "`ridge_dict`: a Python dictionary mapping `ridge_points` to `ridge_vertices`\n",
    "\n",
    "_Examples of these attributes based on centroids defined earlier are demonstrated below._"
   ]
  },
  {
   "cell_type": "code",
   "execution_count": 6,
   "metadata": {},
   "outputs": [
    {
     "name": "stdout",
     "output_type": "stream",
     "text": [
      "vor.ridge_vertices: [[-1, 2], [-1, 3], [2, 4], [3, 4], [0, 2], [-1, 0], [-1, 1], [1, 3], [5, 9], [5, 6], [6, 7], [7, 8], [8, 9], [-1, 9], [-1, 5], [1, 6], [4, 7], [0, 8]]\n",
      "vor.ridge_points: [[3 0]\n",
      " [3 6]\n",
      " [3 4]\n",
      " [3 7]\n",
      " [0 4]\n",
      " [0 1]\n",
      " [6 8]\n",
      " [6 7]\n",
      " [5 2]\n",
      " [5 8]\n",
      " [5 7]\n",
      " [5 4]\n",
      " [5 1]\n",
      " [2 1]\n",
      " [2 8]\n",
      " [8 7]\n",
      " [7 4]\n",
      " [4 1]]\n",
      "Ridge Vertices: [[0.33252427 1.47135922]\n",
      " [0.64915254 0.41355932]]\n"
     ]
    }
   ],
   "source": [
    "print(\"vor.ridge_vertices:\", vor.ridge_vertices)\n",
    "print(\"vor.ridge_points:\", vor.ridge_points)\n",
    "print(\"Ridge Vertices:\", vor.vertices[vor.ridge_vertices[0]])"
   ]
  },
  {
   "cell_type": "code",
   "execution_count": 7,
   "metadata": {},
   "outputs": [
    {
     "name": "stdout",
     "output_type": "stream",
     "text": [
      "vor.points: [[ 0.   0.2]\n",
      " [-0.2  1. ]\n",
      " [ 0.   2.1]\n",
      " [ 1.1 -0.1]\n",
      " [ 1.   1. ]\n",
      " [ 0.9  1.9]\n",
      " [ 2.2 -0.2]\n",
      " [ 1.9  1.1]\n",
      " [ 2.1  2.3]]\n",
      "vor.regions: [[4, 2, -1, 3], [2, 0, -1], [3, 1, -1], [9, 5, 6, 7, 8], [9, -1, 5], [6, 1, -1, 5], [7, 4, 3, 1, 6], [8, 0, 2, 4, 7], [9, -1, 0, 8]]\n",
      "vor.ridge_dict: {(3, 0): [-1, 2], (3, 6): [-1, 3], (3, 4): [2, 4], (3, 7): [3, 4], (0, 4): [0, 2], (0, 1): [-1, 0], (6, 8): [-1, 1], (6, 7): [1, 3], (5, 2): [5, 9], (5, 8): [5, 6], (5, 7): [6, 7], (5, 4): [7, 8], (5, 1): [8, 9], (2, 1): [-1, 9], (2, 8): [-1, 5], (8, 7): [1, 6], (7, 4): [4, 7], (4, 1): [0, 8]}\n",
      "vor.vertices: [[0.4        0.725     ]\n",
      " [5.17419355 1.17096774]\n",
      " [0.64915254 0.41355932]\n",
      " [1.69714286 0.36857143]\n",
      " [1.512      0.492     ]\n",
      " [0.88333333 3.95      ]\n",
      " [1.61176471 1.76470588]\n",
      " [1.4        1.5       ]\n",
      " [0.4        1.38888889]\n",
      " [0.33252427 1.47135922]]\n"
     ]
    }
   ],
   "source": [
    "print(\"vor.points:\", vor.points)\n",
    "print(\"vor.regions:\", vor.regions)\n",
    "print(\"vor.ridge_dict:\", vor.ridge_dict)\n",
    "print(\"vor.vertices:\", vor.vertices)"
   ]
  },
  {
   "cell_type": "code",
   "execution_count": 8,
   "metadata": {},
   "outputs": [
    {
     "data": {
      "image/png": "[encoded data removed]",
      "text/plain": [
       "<Figure size 640x480 with 1 Axes>"
      ]
     },
     "metadata": {},
     "output_type": "display_data"
    }
   ],
   "source": [
    "fig = voronoi_plot_2d(vor)\n",
    "plt.show()"
   ]
  },
  {
   "cell_type": "code",
   "execution_count": 9,
   "metadata": {},
   "outputs": [
    {
     "name": "stdout",
     "output_type": "stream",
     "text": [
      "---ADDING POINT (IN INCREMENTAL MODE)---\n",
      "vor.points: [[ 0.   0.2]\n",
      " [-0.2  1. ]\n",
      " [ 0.   2.1]\n",
      " [ 1.1 -0.1]\n",
      " [ 1.   1. ]\n",
      " [ 0.9  1.9]\n",
      " [ 2.2 -0.2]\n",
      " [ 1.9  1.1]\n",
      " [ 2.1  2.3]\n",
      " [ 2.5  2.5]]\n",
      "vor.vertices: [[0.4        0.725     ]\n",
      " [0.64915254 0.41355932]\n",
      " [1.69714286 0.36857143]\n",
      " [1.512      0.492     ]\n",
      " [0.88333333 3.95      ]\n",
      " [1.61176471 1.76470588]\n",
      " [1.4        1.5       ]\n",
      " [0.4        1.38888889]\n",
      " [0.33252427 1.47135922]\n",
      " [0.73235294 5.53529412]\n",
      " [4.195      0.945     ]\n",
      " [2.70909091 1.58181818]]\n"
     ]
    }
   ],
   "source": [
    "print(\"---ADDING POINT (IN INCREMENTAL MODE)---\")\n",
    "vor.add_points([[2.5, 2.5]])\n",
    "print(\"vor.points:\", vor.points)\n",
    "print(\"vor.vertices:\", vor.vertices)"
   ]
  },
  {
   "cell_type": "code",
   "execution_count": 10,
   "metadata": {},
   "outputs": [
    {
     "data": {
      "image/png": "[encoded data removed]",
      "text/plain": [
       "<Figure size 640x480 with 1 Axes>"
      ]
     },
     "metadata": {},
     "output_type": "display_data"
    }
   ],
   "source": [
    "fig1 = voronoi_plot_2d(vor)\n",
    "plt.show()"
   ]
  },
  {
   "cell_type": "code",
   "execution_count": 11,
   "metadata": {},
   "outputs": [
    {
     "name": "stdout",
     "output_type": "stream",
     "text": [
      "points[4]: [1. 1.]\n",
      "points: [[ 0.   0.2]\n",
      " [-0.2  1. ]\n",
      " [ 0.   2.1]\n",
      " [ 1.1 -0.1]\n",
      " [ 1.   1. ]\n",
      " [ 0.9  1.9]\n",
      " [ 2.2 -0.2]\n",
      " [ 1.9  1.1]\n",
      " [ 2.1  2.3]]\n",
      "vor.points: [[ 0.   0.2]\n",
      " [-0.2  1. ]\n",
      " [ 0.   2.1]\n",
      " [ 1.1 -0.1]\n",
      " [ 1.   1. ]\n",
      " [ 0.9  1.9]\n",
      " [ 2.2 -0.2]\n",
      " [ 1.9  1.1]\n",
      " [ 2.1  2.3]\n",
      " [ 2.5  2.5]]\n"
     ]
    }
   ],
   "source": [
    "print(\"points[4]:\", CENTROIDS[4])\n",
    "print(\"points:\", CENTROIDS)\n",
    "print(\"vor.points:\", vor.points)"
   ]
  },
  {
   "cell_type": "code",
   "execution_count": 23,
   "metadata": {},
   "outputs": [
    {
     "name": "stdout",
     "output_type": "stream",
     "text": [
      "regions: [[2, 3, 1, -1], [7, 8, 4, 5, 6], [6, 7, 0, 1, 3], [7, 8, -1, 0], [-1, 9, 11, 10], [-1, 8, 4, 9], [11, 5, 4, 9], [11, 5, 6, 3, 2, 10], [-1, 2, 10], [-1, 0, 1]]\n",
      "point_region: [9 3 5 0 2 1 8 7 6 4]\n",
      "ridge_vertices: [[2, 3], [1, 3], [-1, 1], [-1, 2], [4, 8], [7, 8], [4, 5], [5, 6], [6, 7], [0, 7], [0, 1], [3, 6], [-1, 8], [-1, 0], [-1, 9], [9, 11], [10, 11], [-1, 10], [4, 9], [5, 11], [2, 10]]\n",
      "ridge_points: [[3 7]\n",
      " [3 4]\n",
      " [3 0]\n",
      " [3 6]\n",
      " [5 2]\n",
      " [5 1]\n",
      " [5 8]\n",
      " [5 7]\n",
      " [5 4]\n",
      " [4 1]\n",
      " [4 0]\n",
      " [4 7]\n",
      " [1 2]\n",
      " [1 0]\n",
      " [9 2]\n",
      " [9 8]\n",
      " [9 7]\n",
      " [9 6]\n",
      " [2 8]\n",
      " [8 7]\n",
      " [7 6]]\n"
     ]
    }
   ],
   "source": [
    "print(\"regions:\", vor.regions)\n",
    "print(\"point_region:\", vor.point_region)\n",
    "print(\"ridge_vertices:\", vor.ridge_vertices)\n",
    "print(\"ridge_points:\", vor.ridge_points)"
   ]
  },
  {
   "cell_type": "code",
   "execution_count": 22,
   "metadata": {},
   "outputs": [
    {
     "name": "stdout",
     "output_type": "stream",
     "text": [
      "                                    region for centroid 4: 2\n",
      "                       vertices for region for centroid 4: [6, 7, 0, 1, 3]\n",
      "coordinates of Voronoi vertices associated with centroid 4:\n",
      "[[1.4        1.5       ]\n",
      " [0.4        1.38888889]\n",
      " [0.4        0.725     ]\n",
      " [0.64915254 0.41355932]\n",
      " [1.512      0.492     ]]\n"
     ]
    }
   ],
   "source": [
    "print(\"                                    region for centroid 4:\", vor.point_region[4])\n",
    "print(\"                       vertices for region for centroid 4:\", vor.regions[vor.point_region[4]])\n",
    "print(\"coordinates of Voronoi vertices associated with centroid 4:\")\n",
    "print(vor.vertices[vor.regions[vor.point_region[4]]])"
   ]
  },
  {
   "cell_type": "code",
   "execution_count": 14,
   "metadata": {},
   "outputs": [
    {
     "name": "stdout",
     "output_type": "stream",
     "text": [
      "ridge_dict: {(3, 7): [2, 3], (3, 4): [1, 3], (3, 0): [-1, 1], (3, 6): [-1, 2], (5, 2): [4, 8], (5, 1): [7, 8], (5, 8): [4, 5], (5, 7): [5, 6], (5, 4): [6, 7], (4, 1): [0, 7], (4, 0): [0, 1], (4, 7): [3, 6], (1, 2): [-1, 8], (1, 0): [-1, 0], (9, 2): [-1, 9], (9, 8): [9, 11], (9, 7): [10, 11], (9, 6): [-1, 10], (2, 8): [4, 9], (8, 7): [5, 11], (7, 6): [2, 10]}\n"
     ]
    }
   ],
   "source": [
    "print(\"ridge_dict:\", vor.ridge_dict)"
   ]
  }
 ],
 "metadata": {
  "kernelspec": {
   "display_name": "env",
   "language": "python",
   "name": "python3"
  },
  "language_info": {
   "codemirror_mode": {
    "name": "ipython",
    "version": 3
   },
   "file_extension": ".py",
   "mimetype": "text/x-python",
   "name": "python",
   "nbconvert_exporter": "python",
   "pygments_lexer": "ipython3",
   "version": "3.8.16"
  }
 },
 "nbformat": 4,
 "nbformat_minor": 2
}
