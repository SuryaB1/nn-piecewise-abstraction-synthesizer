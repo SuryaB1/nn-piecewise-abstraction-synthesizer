{
 "cells": [
  {
   "cell_type": "markdown",
   "metadata": {},
   "source": [
    "The purpose of this notebook is to list various methods to compute the equation of the hyperplane representing a Voronoi ridge in any dimension. _These methods were found from a preliminary survey for methods to address this need and should be expanded on._ (see `TODO.md`)\n",
    "\n",
    "Computing a hyperplane representation of a ridge will be NECESSARY (see `TODO.md`) for encoding ridges (in tessellations of dimension greater than 2D) as properties of queries to Marabou. The current implementation only accounts for 2D ridges and needs to be improved to scale to higher-dimensional ridges.\n",
    "\n",
    "The below are some ways to implement this hyperplane representation computation that each have their own limitations."
   ]
  },
  {
   "cell_type": "code",
   "execution_count": 1,
   "metadata": {},
   "outputs": [],
   "source": [
    "import string\n",
    "import warnings\n",
    "warnings.filterwarnings('ignore')\n",
    "\n",
    "import numpy as np\n",
    "\n",
    "def pretty_print_hyperplane(coeffs, const=1.0):\n",
    "    for i in range(len(coeffs)):\n",
    "        suffix = \" + \" if (i < len(coeffs) - 1) else \" \"\n",
    "        print(f\"{coeffs[i]:.4f}*{string.ascii_lowercase[i]}\", end=suffix)\n",
    "    print(f\"= {const}\")"
   ]
  },
  {
   "cell_type": "markdown",
   "metadata": {},
   "source": [
    "##### Method 1: Solving Linear System with Inverse\n",
    "**Reference:** https://stackoverflow.com/questions/36270116/how-do-i-define-a-hyperplane-in-python-given-4-points-how-do-i-then-define-the\n",
    "\n",
    "**Limitation:** Given points that form a singular matrix, a hyperplane equation cannot be computed. Would need to find a way to choose one of many possible hyperplanes in singular cases."
   ]
  },
  {
   "cell_type": "code",
   "execution_count": 2,
   "metadata": {},
   "outputs": [
    {
     "name": "stdout",
     "output_type": "stream",
     "text": [
      "Cannot compute hyperplane equation (singular 4D matrix given)\n",
      "Hyperplane: 1.15*x1 + -1.1*x2 + -0.6500000000000001*x3 + 1.0*x4 = 1\n",
      "Cannot compute hyperplane equation (singular 3D matrix given)\n"
     ]
    }
   ],
   "source": [
    "def hyper4(p1,p2,p3,p4):\n",
    "    X=np.matrix([p1,p2,p3,p4])\n",
    "    k=np.ones((4,1))\n",
    "    \n",
    "    try:\n",
    "        return np.matrix.dot(np.linalg.inv(X), k)\n",
    "    except:\n",
    "        print(\"Cannot compute hyperplane equation (singular 4D matrix given)\")\n",
    "\n",
    "no_solution = hyper4([0,0,0,0],[0,0,0,1],[0,0,2,1],[0,0,2,0])  # No solution returned (singular 4D matrix)\n",
    "a = hyper4([1,2,3,4],[0,0,0,1],[4,3,2,1],[2,0,2,0])  # invertible 4D: 1.15w - 1.1x - 0.65y + z = 1\n",
    "print(f\"Hyperplane: {a[0, 0]}*x1 + {a[1, 0]}*x2 + {a[2, 0]}*x3 + {a[3, 0]}*x4 = 1\")\n",
    "\n",
    "def hyper3(p1,p2,p3):\n",
    "    X=np.matrix([p1,p2,p3])\n",
    "    k=np.ones((4,1))\n",
    "\n",
    "    try:\n",
    "        return np.matrix.dot(np.linalg.inv(X), k)\n",
    "    except:\n",
    "        print(\"Cannot compute hyperplane equation (singular 3D matrix given)\")\n",
    "\n",
    "no_solution = hyper3([1,0,0],[0,1,0],[2,0,0])  # No solution returned (singular 3D matrix)"
   ]
  },
  {
   "cell_type": "markdown",
   "metadata": {},
   "source": [
    "##### Method 2: Solving Linear System by Pre-multiplying Both Sides with Transpose and `numpy.linalg.solve`\n",
    "\n",
    "**Reference:** https://cs.stackexchange.com/questions/150877/finding-a-d-dimensional-hyperplane-containing-n-given-points.\n",
    "\n",
    "**Limitation:**`np.linalg.solve` with \"A.T @\" does not work for overdetermined or underdetermined systems"
   ]
  },
  {
   "cell_type": "code",
   "execution_count": 3,
   "metadata": {},
   "outputs": [
    {
     "name": "stdout",
     "output_type": "stream",
     "text": [
      "\u001b[4m\u001b[1mWithout Multiplying by Transpose\u001b[0m\n",
      "Solution cannot be found (overdetermined system)\n",
      "Solution cannot be found (overdetermined system)\n",
      "Solution cannot be found (overdetermined system)\n",
      "\n",
      "\u001b[4m\u001b[1mMultiplying by Transpose:\u001b[0m\n",
      "Solution cannot be found (overdetermined system)\n",
      "-0.5625*a + 0.1250*b + 0.4375*c = 1.0\n",
      "Solution cannot be found (overdetermined system)\n"
     ]
    }
   ],
   "source": [
    "def solve(lhs, rhs):\n",
    "    try:\n",
    "        result = np.linalg.solve(lhs, rhs)\n",
    "        pretty_print_hyperplane(result)\n",
    "    except:\n",
    "        print(\"Solution cannot be found (overdetermined system)\")\n",
    "\n",
    "A_2x3 = np.array([\n",
    "    [1, 2, 3],\n",
    "    [4, 8, 12],\n",
    "])\n",
    "b_2x3 = np.ones(2)\n",
    "\n",
    "A_3x3 = np.array([\n",
    "    [1, 2, 3],\n",
    "    [4, 5, 6],\n",
    "    [7, 8, 9],\n",
    "])\n",
    "b_3x3 = np.ones(3)\n",
    "\n",
    "A_4x3 = np.array([\n",
    "    [1, 2, 3],\n",
    "    [4, 5, 6],\n",
    "    [7, 8, 9],\n",
    "    [10, 11, 12]\n",
    "])\n",
    "b_4x3 = np.ones(4)\n",
    "\n",
    "print('\\033[4m' + '\\033[1m' + \"Without Multiplying by Transpose\" + '\\033[0m')\n",
    "solve(A_2x3, b_2x3)\n",
    "solve(A_3x3, b_3x3)\n",
    "solve(A_4x3, b_4x3)\n",
    "print()\n",
    "print('\\033[4m' + '\\033[1m' + \"Multiplying by Transpose:\" + '\\033[0m')\n",
    "solve(A_2x3.T @ A_2x3, A_2x3.T @ b_2x3)\n",
    "solve(A_3x3.T @ A_3x3, A_3x3.T @ b_3x3)\n",
    "solve(A_4x3.T @ A_4x3, A_4x3.T @ b_4x3)"
   ]
  },
  {
   "cell_type": "markdown",
   "metadata": {},
   "source": [
    "##### Method 3: Solving Linear System using `numpy.linalg.lstsq`\n",
    "\n",
    "**Limitation:** May be slower than `numpy.linalg.solve`"
   ]
  },
  {
   "cell_type": "code",
   "execution_count": 4,
   "metadata": {},
   "outputs": [
    {
     "name": "stdout",
     "output_type": "stream",
     "text": [
      "0.0210*a + 0.0420*b + 0.0630*c = 1.0\n",
      "-0.5000*a + 0.0000*b + 0.5000*c = 1.0\n",
      "-0.5000*a + 0.0000*b + 0.5000*c = 1.0\n"
     ]
    }
   ],
   "source": [
    "def solve(lhs, rhs):\n",
    "    try:\n",
    "        solution, residuals, rank, singular = np.linalg.lstsq(lhs, rhs)\n",
    "        pretty_print_hyperplane(solution)\n",
    "    except:\n",
    "        print(\"Solution cannot be found (overdetermined system)\")\n",
    "\n",
    "A_2x3 = np.array([\n",
    "    [1, 2, 3],\n",
    "    [4, 8, 12],\n",
    "])\n",
    "b_2x3 = np.ones(2)\n",
    "\n",
    "A_3x3 = np.array([\n",
    "    [1, 2, 3],\n",
    "    [4, 5, 6],\n",
    "    [7, 8, 9],\n",
    "])\n",
    "b_3x3 = np.ones(3)\n",
    "\n",
    "A_4x3 = np.array([\n",
    "    [1, 2, 3],\n",
    "    [4, 5, 6],\n",
    "    [7, 8, 9],\n",
    "    [10, 11, 12]\n",
    "])\n",
    "b_4x3 = np.ones(4)\n",
    "\n",
    "solve(A_2x3, b_2x3)\n",
    "solve(A_3x3, b_3x3)\n",
    "solve(A_4x3, b_4x3)"
   ]
  },
  {
   "cell_type": "markdown",
   "metadata": {},
   "source": [
    "##### Method 4: Solving Linear System using Pseudo-Inverse\n",
    "\n",
    "**Limitation**: Less efficient than computing inverse"
   ]
  },
  {
   "cell_type": "code",
   "execution_count": 5,
   "metadata": {},
   "outputs": [
    {
     "name": "stdout",
     "output_type": "stream",
     "text": [
      "0.0210*a + 0.0420*b + 0.0630*c = 1.0\n",
      "-0.5000*a + 0.0000*b + 0.5000*c = 1.0\n",
      "-0.5000*a + 0.0000*b + 0.5000*c = 1.0\n"
     ]
    }
   ],
   "source": [
    "def solve(lhs, rhs):\n",
    "    try:\n",
    "        result = np.linalg.pinv(lhs) @ rhs\n",
    "        pretty_print_hyperplane(result)\n",
    "    except:\n",
    "        print(\"Solution cannot be found by function\")\n",
    "\n",
    "A_2x3 = np.array([\n",
    "    [1, 2, 3],\n",
    "    [4, 8, 12],\n",
    "])\n",
    "b_2x3 = np.ones(2)\n",
    "\n",
    "A_3x3 = np.array([\n",
    "    [1, 2, 3],\n",
    "    [4, 5, 6],\n",
    "    [7, 8, 9],\n",
    "])\n",
    "b_3x3 = np.ones(3)\n",
    "\n",
    "A_4x3 = np.array([\n",
    "    [1, 2, 3],\n",
    "    [4, 5, 6],\n",
    "    [7, 8, 9],\n",
    "    [10, 11, 12]\n",
    "])\n",
    "b_4x3 = np.ones(4)\n",
    "\n",
    "solve(A_2x3, b_2x3)\n",
    "solve(A_3x3, b_3x3)\n",
    "solve(A_4x3, b_4x3)"
   ]
  }
 ],
 "metadata": {
  "kernelspec": {
   "display_name": "Python 3",
   "language": "python",
   "name": "python3"
  },
  "language_info": {
   "codemirror_mode": {
    "name": "ipython",
    "version": 3
   },
   "file_extension": ".py",
   "mimetype": "text/x-python",
   "name": "python",
   "nbconvert_exporter": "python",
   "pygments_lexer": "ipython3",
   "version": "3.8.16"
  }
 },
 "nbformat": 4,
 "nbformat_minor": 2
}
